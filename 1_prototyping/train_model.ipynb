{
 "cells": [
  {
   "cell_type": "code",
   "execution_count": null,
   "metadata": {},
   "outputs": [],
   "source": [
    "import azureml\n",
    "import json\n",
    "\n",
    "from azureml.core.model import Model, InferenceConfig\n",
    "from azureml.core import Workspace, Datastore, Experiment, Environment, ScriptRunConfig, Run \n",
    "from azureml.core.dataset import Dataset\n",
    "from azureml.core.compute import ComputeTarget\n",
    "\n",
    "from azureml.widgets import RunDetails\n",
    "\n",
    "from azureml.core.webservice import AciWebservice #Webservice, AksWebservice, AciWebservice\n",
    "from azureml.core.conda_dependencies import CondaDependencies \n",
    "\n",
    "from azureml.train.hyperdrive import RandomParameterSampling\n",
    "from azureml.train.hyperdrive import normal, uniform, choice\n",
    "from azureml.train.hyperdrive import HyperDriveConfig\n",
    "from azureml.train.hyperdrive import RandomParameterSampling, BanditPolicy, uniform, PrimaryMetricGoal\n",
    "\n",
    "# check core SDK version number\n",
    "print(\"Azure ML SDK Version: \", azureml.core.VERSION)"
   ]
  },
  {
   "cell_type": "markdown",
   "metadata": {},
   "source": [
    "# Connect to Workspace"
   ]
  },
  {
   "cell_type": "code",
   "execution_count": null,
   "metadata": {},
   "outputs": [],
   "source": [
    "from azureml.core.authentication import AzureCliAuthentication\n",
    "\n",
    "cli_auth = AzureCliAuthentication(cloud=\"AzureCloud\")\n",
    "\n",
    "ws = Workspace(workspace_name=\"Cybertron\",resource_group=\"Cybertron-RG\",subscription_id=\"431dbae5-40ca-438a-8daf-77d7d5580b41\",auth=cli_auth)\n",
    "print(\"Workspace:\",ws.name)\n",
    "\n",
    "# Connect to compute for training\n",
    "compute_target = ComputeTarget(workspace=ws, name=\"OptimusPrime\")\n",
    "print(\"Compute Target:\",compute_target.name)\n",
    "\n",
    "# Connect to the datastore for the training images\n",
    "ds = Datastore.get_default(ws)\n",
    "print(\"Datastore:\",ds.name)\n",
    "\n",
    "# Connect to the experiment\n",
    "exp = Experiment(workspace=ws, name='Simpsons-PyTorch')\n",
    "print(\"Experiment:\",exp.name)\n",
    "print(\"Workspace:\",ws.name)\n",
    "\n",
    "# Connect to compute for training\n",
    "compute_target = ComputeTarget(workspace=ws, name=\"OptimusPrime\")\n",
    "print(\"Compute Target:\",compute_target.name)\n",
    "\n",
    "# Connect to the datastore for the training images\n",
    "ds = Datastore.get_default(ws)\n",
    "print(\"Datastore:\",ds.name)\n",
    "\n",
    "# Connect to the experiment\n",
    "exp = Experiment(workspace=ws, name='Simpsons-PyTorch')\n",
    "print(\"Experiment:\",exp.name)"
   ]
  },
  {
   "cell_type": "markdown",
   "metadata": {},
   "source": [
    "# Remote training"
   ]
  },
  {
   "cell_type": "code",
   "execution_count": null,
   "metadata": {},
   "outputs": [],
   "source": [
    "simpsons_ds = Dataset.get_by_name(ws, name='lego-v1')\n",
    "print(\"Dataset:\",simpsons_ds.name,\"Version:\",simpsons_ds.version)"
   ]
  },
  {
   "cell_type": "code",
   "execution_count": null,
   "metadata": {},
   "outputs": [],
   "source": [
    "curated_env_name = 'AzureML-pytorch-1.10-ubuntu18.04-py38-cuda11-gpu'\n",
    "pytorch_env = Environment.get(workspace=ws, name=curated_env_name)\n",
    "pytorch_env = pytorch_env.clone(new_name='pytorch-simpson-training')\n",
    "print(\"Environment:\",pytorch_env.name)"
   ]
  },
  {
   "cell_type": "code",
   "execution_count": null,
   "metadata": {},
   "outputs": [],
   "source": [
    "args = [\n",
    "    '--data-folder', simpsons_ds.as_named_input('simpsons').as_mount(),\n",
    "    '--num-epochs', 10\n",
    "]\n",
    "\n",
    "config = ScriptRunConfig(\n",
    "    source_directory = '../scripts/train', \n",
    "    script = 'train.py', \n",
    "    compute_target = compute_target,\n",
    "    environment = pytorch_env,\n",
    "    arguments=args,\n",
    ")"
   ]
  },
  {
   "cell_type": "code",
   "execution_count": null,
   "metadata": {},
   "outputs": [],
   "source": [
    "run = exp.submit(config)\n",
    "print(\"Run:\",run.id)"
   ]
  },
  {
   "cell_type": "code",
   "execution_count": null,
   "metadata": {},
   "outputs": [],
   "source": [
    "RunDetails(run).show()"
   ]
  },
  {
   "cell_type": "code",
   "execution_count": null,
   "metadata": {},
   "outputs": [],
   "source": [
    "model = run.register_model(\n",
    "   model_name='Simpsons-Classification',\n",
    "   model_path='outputs',\n",
    "   model_framework='PyTorch',\n",
    "   model_framework_version='1.6',\n",
    "   description=\"Lego figures PyTorch Classifier\",\n",
    "   tags={'Conference':''},\n",
    ")\n",
    "\n",
    "print(\"Model '{}' version {} registered \".format(model.name,model.version))"
   ]
  },
  {
   "cell_type": "markdown",
   "metadata": {},
   "source": [
    "# Test deployment to an Azure Container Instance"
   ]
  },
  {
   "cell_type": "code",
   "execution_count": null,
   "metadata": {},
   "outputs": [],
   "source": [
    "myenv = Environment(name=\"simpsons-inference\")\n",
    "\n",
    "conda_dep = CondaDependencies()\n",
    "\n",
    "# You must list azureml-defaults as a pip dependency\n",
    "conda_dep.add_pip_package(\"azureml-defaults\")\n",
    "conda_dep.add_pip_package(\"torch\")\n",
    "conda_dep.add_pip_package(\"torchvision\")\n",
    "conda_dep.add_pip_package(\"pillow==5.4.1\")\n",
    "\n",
    "# Adds dependencies to PythonSection of myenv\n",
    "myenv.python.conda_dependencies=conda_dep"
   ]
  },
  {
   "cell_type": "code",
   "execution_count": null,
   "metadata": {},
   "outputs": [],
   "source": [
    "inference_config = InferenceConfig(\n",
    "    entry_script = \"../scripts/score/score.py\", \n",
    "    environment = myenv\n",
    ")"
   ]
  },
  {
   "cell_type": "code",
   "execution_count": null,
   "metadata": {},
   "outputs": [],
   "source": [
    "deploy_config = AciWebservice.deploy_configuration(\n",
    "    cpu_cores = 2, \n",
    "    memory_gb = 4,\n",
    "    description='Simpson Lego Classifier'\n",
    ")"
   ]
  },
  {
   "cell_type": "code",
   "execution_count": null,
   "metadata": {},
   "outputs": [],
   "source": [
    "aci_service = Model.deploy(ws, \n",
    "    name=\"simpsons-classification-test\", \n",
    "    models = [model], \n",
    "    inference_config = inference_config, \n",
    "    deployment_config = deploy_config, \n",
    "    overwrite = True\n",
    ")\n",
    "\n",
    "aci_service.wait_for_deployment(show_output=True)"
   ]
  },
  {
   "cell_type": "code",
   "execution_count": null,
   "metadata": {},
   "outputs": [],
   "source": [
    "img_name = \"https://raw.githubusercontent.com/hnky/dataset-lego-figures/master/_test/Bart.jpg\"\n",
    "result = aci_service.run(input_data=json.dumps({ \"image\": img_name}))\n",
    "\n",
    "print(result)"
   ]
  },
  {
   "cell_type": "markdown",
   "metadata": {},
   "source": []
  },
  {
   "cell_type": "markdown",
   "metadata": {},
   "source": [
    "# Optimize the model"
   ]
  },
  {
   "cell_type": "code",
   "execution_count": null,
   "metadata": {},
   "outputs": [],
   "source": [
    "param_sampling = RandomParameterSampling( {\n",
    "        'num-epochs': choice(range(3,5)),\n",
    "        'learning_rate': uniform(0.001, 0.005),\n",
    "        'momentum': uniform(0.9, 0.99)\n",
    "    }\n",
    ")\n",
    "\n",
    "args = [\n",
    "    '--data-folder', simpsons_ds.as_named_input('simpsons').as_mount(),\n",
    "]\n",
    "\n",
    "script_run_config = ScriptRunConfig(\n",
    "    source_directory = \"../scripts/train\", \n",
    "    script = 'train.py', \n",
    "    compute_target=compute_target,\n",
    "    environment = pytorch_env,\n",
    "    arguments=args,\n",
    ")\n",
    "\n",
    "hd_config = HyperDriveConfig(run_config = script_run_config,\n",
    "                             hyperparameter_sampling = param_sampling,\n",
    "                             primary_metric_name=\"accuracy\",\n",
    "                             primary_metric_goal=PrimaryMetricGoal.MAXIMIZE,\n",
    "                             max_total_runs=4,\n",
    "                             max_concurrent_runs=4)"
   ]
  },
  {
   "cell_type": "code",
   "execution_count": null,
   "metadata": {},
   "outputs": [],
   "source": [
    "hyperdrive_run = exp.submit(hd_config)"
   ]
  },
  {
   "cell_type": "code",
   "execution_count": null,
   "metadata": {},
   "outputs": [],
   "source": [
    "RunDetails(hyperdrive_run).show()"
   ]
  },
  {
   "cell_type": "code",
   "execution_count": null,
   "metadata": {},
   "outputs": [],
   "source": [
    "best_run = hyperdrive_run.get_best_run_by_primary_metric()\n",
    "best_run_metrics = best_run.get_metrics()\n",
    "parameter_values = best_run.get_details()['runDefinition']['arguments']\n",
    "\n",
    "print('Best Run Id: ', best_run.id)\n",
    "print('Accuracy:', best_run_metrics['accuracy'])\n",
    "print('Learning rate:', parameter_values[3])\n",
    "print('Momentum:', parameter_values[5])"
   ]
  },
  {
   "cell_type": "code",
   "execution_count": null,
   "metadata": {},
   "outputs": [],
   "source": [
    "model = best_run.register_model(\n",
    "    model_name='Simpsons-Classification',\n",
    "    model_path='outputs',\n",
    "    model_framework='PyTorch',\n",
    "    model_framework_version='1.6',\n",
    "    description=\"Simpsons best model\",\n",
    "    tags={'Conference':'Test 1','HPT':'true'},\n",
    ")\n",
    "\n",
    "print(\"Model '{}' version {} registered \".format(model.name,model.version))"
   ]
  },
  {
   "cell_type": "code",
   "execution_count": null,
   "metadata": {},
   "outputs": [],
   "source": []
  }
 ],
 "metadata": {
  "interpreter": {
   "hash": "2a3343179b0a1d4dd41f89e547e425dfb702c2e4b25a2784d404b8ec938fff8c"
  },
  "kernelspec": {
   "display_name": "Python 3.8.12 64-bit ('amls': conda)",
   "name": "python3"
  },
  "language_info": {
   "codemirror_mode": {
    "name": "ipython",
    "version": 3
   },
   "file_extension": ".py",
   "mimetype": "text/x-python",
   "name": "python",
   "nbconvert_exporter": "python",
   "pygments_lexer": "ipython3",
   "version": "3.8.12"
  },
  "orig_nbformat": 4
 },
 "nbformat": 4,
 "nbformat_minor": 2
}
